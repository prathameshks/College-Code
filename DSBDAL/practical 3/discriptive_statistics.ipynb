{
 "cells": [
  {
   "cell_type": "code",
   "execution_count": null,
   "metadata": {},
   "outputs": [],
   "source": [
    "# Perform the following operations on any open source dataset (e.g., data.csv)\n",
    "# 1. Provide summary statistics (mean, median, minimum, maximum, standard deviation) for a \n",
    "# dataset (age, income etc.) with numeric variables grouped by one of the qualitative (categorical) \n",
    "# variable. For example, if your categorical variable is age groups and quantitative variable is \n",
    "# income, then provide summary statistics of income grouped by the age groups. Create a list that \n",
    "# contains a numeric value for each response to the categorical variable.\n",
    "# 2. Write a Python program to display some basic statistical details like percentile, mean, standard \n",
    "# deviation etc. of the species of ‘Iris-setosa’, ‘Iris-versicolor’ and ‘Iris-versicolor’ of iris.csv \n",
    "# dataset."
   ]
  },
  {
   "cell_type": "code",
   "execution_count": 2,
   "metadata": {},
   "outputs": [],
   "source": [
    "# Import necessary libraries\n",
    "import pandas as pd\n",
    "import seaborn as sns\n",
    "\n",
    "# Load the Titanic dataset\n",
    "titanic = sns.load_dataset('titanic')"
   ]
  },
  {
   "cell_type": "code",
   "execution_count": 8,
   "metadata": {},
   "outputs": [
    {
     "name": "stdout",
     "output_type": "stream",
     "text": [
      "Summary statistics for Age grouped\n",
      "Mean\n",
      " sex\n",
      "female    27.915709\n",
      "male      30.726645\n",
      "Name: age, dtype: float64\n",
      "Median\n",
      " sex\n",
      "female    27.0\n",
      "male      29.0\n",
      "Name: age, dtype: float64\n",
      "Minimum\n",
      " sex\n",
      "female    0.75\n",
      "male      0.42\n",
      "Name: age, dtype: float64\n",
      "Maximum\n",
      " sex\n",
      "female    63.0\n",
      "male      80.0\n",
      "Name: age, dtype: float64\n",
      "Standard Deviation\n",
      " sex\n",
      "female    14.110146\n",
      "male      14.678201\n",
      "Name: age, dtype: float64\n"
     ]
    }
   ],
   "source": [
    "# 1. Provide summary statistics for a dataset with numeric variables grouped by one of the qualitative variable\n",
    "# Here, we group by 'Sex' and provide summary statistics for 'Age'\n",
    "data = titanic.groupby('sex')['age']\n",
    "\n",
    "# Summary statistics\n",
    "print(\"Summary statistics for Age grouped\")\n",
    "print(\"Mean\\n\", data.mean())\n",
    "print(\"Median\\n\", data.median())\n",
    "print(\"Minimum\\n\", data.min())\n",
    "print(\"Maximum\\n\", data.max())\n",
    "print(\"Standard Deviation\\n\", data.std())\n",
    "\n",
    "\n"
   ]
  },
  {
   "cell_type": "code",
   "execution_count": 10,
   "metadata": {},
   "outputs": [
    {
     "name": "stdout",
     "output_type": "stream",
     "text": [
      "List of numeric values for each response to the categorical variable\n",
      " [sex\n",
      "female    27.915709\n",
      "male      30.726645\n",
      "Name: age, dtype: float64, sex\n",
      "female    27.0\n",
      "male      29.0\n",
      "Name: age, dtype: float64, sex\n",
      "female    0.75\n",
      "male      0.42\n",
      "Name: age, dtype: float64, sex\n",
      "female    63.0\n",
      "male      80.0\n",
      "Name: age, dtype: float64, sex\n",
      "female    14.110146\n",
      "male      14.678201\n",
      "Name: age, dtype: float64]\n"
     ]
    }
   ],
   "source": [
    "# Create a list that contains a numeric value for each response to the categorical variable\n",
    "numeric = [data.mean(), data.median(), data.min(), data.max(), data.std()]\n",
    "print(\"List of numeric values for each response to the categorical variable\\n\", numeric)"
   ]
  },
  {
   "cell_type": "code",
   "execution_count": 12,
   "metadata": {},
   "outputs": [],
   "source": [
    "# Load the Iris dataset\n",
    "iris = sns.load_dataset('iris')"
   ]
  },
  {
   "cell_type": "code",
   "execution_count": 14,
   "metadata": {},
   "outputs": [
    {
     "name": "stdout",
     "output_type": "stream",
     "text": [
      "Basic statistical details of the species of ‘Iris-setosa’\n",
      "        sepal_length  sepal_width  petal_length  petal_width\n",
      "count      50.00000    50.000000     50.000000    50.000000\n",
      "mean        5.00600     3.428000      1.462000     0.246000\n",
      "std         0.35249     0.379064      0.173664     0.105386\n",
      "min         4.30000     2.300000      1.000000     0.100000\n",
      "25%         4.80000     3.200000      1.400000     0.200000\n",
      "50%         5.00000     3.400000      1.500000     0.200000\n",
      "75%         5.20000     3.675000      1.575000     0.300000\n",
      "max         5.80000     4.400000      1.900000     0.600000\n",
      "Basic statistical details of the species of ‘Iris-versicolor’\n",
      "        sepal_length  sepal_width  petal_length  petal_width\n",
      "count     50.000000    50.000000     50.000000    50.000000\n",
      "mean       5.936000     2.770000      4.260000     1.326000\n",
      "std        0.516171     0.313798      0.469911     0.197753\n",
      "min        4.900000     2.000000      3.000000     1.000000\n",
      "25%        5.600000     2.525000      4.000000     1.200000\n",
      "50%        5.900000     2.800000      4.350000     1.300000\n",
      "75%        6.300000     3.000000      4.600000     1.500000\n",
      "max        7.000000     3.400000      5.100000     1.800000\n",
      "Basic statistical details of the species of ‘Iris-virginica’\n",
      "        sepal_length  sepal_width  petal_length  petal_width\n",
      "count      50.00000    50.000000     50.000000     50.00000\n",
      "mean        6.58800     2.974000      5.552000      2.02600\n",
      "std         0.63588     0.322497      0.551895      0.27465\n",
      "min         4.90000     2.200000      4.500000      1.40000\n",
      "25%         6.22500     2.800000      5.100000      1.80000\n",
      "50%         6.50000     3.000000      5.550000      2.00000\n",
      "75%         6.90000     3.175000      5.875000      2.30000\n",
      "max         7.90000     3.800000      6.900000      2.50000\n"
     ]
    }
   ],
   "source": [
    "# 2. Write a Python program to display some basic statistical details like percentile, mean, standard \n",
    "# deviation etc. of the species of ‘Iris-setosa’, ‘Iris-versicolor’ and ‘Iris-versicolor’ of iris.csv \n",
    "# dataset.\n",
    "\n",
    "iris_setosa = iris[iris['species'] == 'setosa'].describe()\n",
    "iris_versicolor = iris[iris['species'] == 'versicolor'].describe()\n",
    "iris_virginica = iris[iris['species'] == 'virginica'].describe()\n",
    "\n",
    "print(\"Basic statistical details of the species of ‘Iris-setosa’\\n\", iris_setosa)\n",
    "print(\"Basic statistical details of the species of ‘Iris-versicolor’\\n\", iris_versicolor)\n",
    "print(\"Basic statistical details of the species of ‘Iris-virginica’\\n\", iris_virginica)\n",
    "\n"
   ]
  }
 ],
 "metadata": {
  "kernelspec": {
   "display_name": "Python 3",
   "language": "python",
   "name": "python3"
  },
  "language_info": {
   "codemirror_mode": {
    "name": "ipython",
    "version": 3
   },
   "file_extension": ".py",
   "mimetype": "text/x-python",
   "name": "python",
   "nbconvert_exporter": "python",
   "pygments_lexer": "ipython3",
   "version": "3.10.11"
  }
 },
 "nbformat": 4,
 "nbformat_minor": 2
}
