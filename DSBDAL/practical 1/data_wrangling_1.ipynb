{
 "cells": [
  {
   "cell_type": "code",
   "execution_count": null,
   "metadata": {},
   "outputs": [],
   "source": [
    "# 1. Locate open source data from the web.\n",
    "# Dataset - Spaceship Titanic on https://www.kaggle.com"
   ]
  },
  {
   "cell_type": "code",
   "execution_count": null,
   "metadata": {},
   "outputs": [],
   "source": [
    "# 2. Provide a clear description of the data and its source (i.e., URL of the web site).\n",
    "# URL: https://www.kaggle.com/code/muhammadhadi13/titanic-eda-model-application/\n",
    "# File train.csv - Personal records for about two-thirds (~8700) of the passengers, to be used as training data.\n",
    "# Columns: PassengerId,HomePlanet,CryoSleep,Cabin,Destination,Age,VIP,RoomService,FoodCourt,ShoppingMall,Spa,VRDeck,Name,Transported"
   ]
  },
  {
   "cell_type": "code",
   "execution_count": 16,
   "metadata": {},
   "outputs": [],
   "source": [
    "# 3. Load the Dataset into the pandas data frame.\n",
    "import pandas as pd\n",
    "import numpy as np\n",
    "import matplotlib.pyplot as plt\n",
    "\n",
    "# Load the dataset into the pandas data frame\n",
    "data = pd.read_csv(\"train.csv\")"
   ]
  },
  {
   "cell_type": "code",
   "execution_count": null,
   "metadata": {},
   "outputs": [],
   "source": [
    "# 4. Data Preprocessing: check for missing values in the data using pandas insult(), describe() \n",
    "# function to get some initial statistics. Provide variable descriptions. Types of variable etc. Check \n",
    "# the dimensions of the data frame."
   ]
  },
  {
   "cell_type": "code",
   "execution_count": 17,
   "metadata": {},
   "outputs": [
    {
     "name": "stdout",
     "output_type": "stream",
     "text": [
      "PassengerId       0\n",
      "HomePlanet      201\n",
      "CryoSleep       217\n",
      "Cabin           199\n",
      "Destination     182\n",
      "Age             179\n",
      "VIP             203\n",
      "RoomService     181\n",
      "FoodCourt       183\n",
      "ShoppingMall    208\n",
      "Spa             183\n",
      "VRDeck          188\n",
      "Name            200\n",
      "Transported       0\n",
      "dtype: int64\n"
     ]
    }
   ],
   "source": [
    "# Check for missing values in the data using pandas insult()\n",
    "print(data.isnull().sum())"
   ]
  },
  {
   "cell_type": "code",
   "execution_count": 18,
   "metadata": {},
   "outputs": [
    {
     "name": "stdout",
     "output_type": "stream",
     "text": [
      "               Age   RoomService     FoodCourt  ShoppingMall           Spa  \\\n",
      "count  8514.000000   8512.000000   8510.000000   8485.000000   8510.000000   \n",
      "mean     28.827930    224.687617    458.077203    173.729169    311.138778   \n",
      "std      14.489021    666.717663   1611.489240    604.696458   1136.705535   \n",
      "min       0.000000      0.000000      0.000000      0.000000      0.000000   \n",
      "25%      19.000000      0.000000      0.000000      0.000000      0.000000   \n",
      "50%      27.000000      0.000000      0.000000      0.000000      0.000000   \n",
      "75%      38.000000     47.000000     76.000000     27.000000     59.000000   \n",
      "max      79.000000  14327.000000  29813.000000  23492.000000  22408.000000   \n",
      "\n",
      "             VRDeck  \n",
      "count   8505.000000  \n",
      "mean     304.854791  \n",
      "std     1145.717189  \n",
      "min        0.000000  \n",
      "25%        0.000000  \n",
      "50%        0.000000  \n",
      "75%       46.000000  \n",
      "max    24133.000000  \n"
     ]
    }
   ],
   "source": [
    "# Describe the data\n",
    "print(data.describe())"
   ]
  },
  {
   "cell_type": "code",
   "execution_count": 19,
   "metadata": {},
   "outputs": [
    {
     "name": "stdout",
     "output_type": "stream",
     "text": [
      "PassengerId      object\n",
      "HomePlanet       object\n",
      "CryoSleep        object\n",
      "Cabin            object\n",
      "Destination      object\n",
      "Age             float64\n",
      "VIP              object\n",
      "RoomService     float64\n",
      "FoodCourt       float64\n",
      "ShoppingMall    float64\n",
      "Spa             float64\n",
      "VRDeck          float64\n",
      "Name             object\n",
      "Transported        bool\n",
      "dtype: object\n"
     ]
    }
   ],
   "source": [
    "# Types of variable\n",
    "print(data.dtypes)"
   ]
  },
  {
   "cell_type": "code",
   "execution_count": 20,
   "metadata": {},
   "outputs": [
    {
     "name": "stdout",
     "output_type": "stream",
     "text": [
      "(8693, 14)\n"
     ]
    }
   ],
   "source": [
    "# Check the dimensions of the data frame\n",
    "print(data.shape)\n"
   ]
  },
  {
   "cell_type": "code",
   "execution_count": null,
   "metadata": {},
   "outputs": [],
   "source": [
    "# 5. Data Formatting and Data Normalization: Summarize the types of variables by checking the \n",
    "# data types (i.e., character, numeric, integer, factor, and logical) of the variables in the data set. If \n",
    "# variables are not in the correct data type, apply proper type conversions."
   ]
  },
  {
   "cell_type": "code",
   "execution_count": 21,
   "metadata": {},
   "outputs": [
    {
     "name": "stdout",
     "output_type": "stream",
     "text": [
      "PassengerId      object\n",
      "HomePlanet       object\n",
      "CryoSleep        object\n",
      "Cabin            object\n",
      "Destination      object\n",
      "Age             float64\n",
      "VIP              object\n",
      "RoomService     float64\n",
      "FoodCourt       float64\n",
      "ShoppingMall    float64\n",
      "Spa             float64\n",
      "VRDeck          float64\n",
      "Name             object\n",
      "Transported        bool\n",
      "dtype: object\n"
     ]
    }
   ],
   "source": [
    "# Summarize the types of variables by checking the data types\n",
    "print(data.dtypes)"
   ]
  },
  {
   "cell_type": "code",
   "execution_count": 22,
   "metadata": {},
   "outputs": [
    {
     "name": "stdout",
     "output_type": "stream",
     "text": [
      "0       39.0\n",
      "1       24.0\n",
      "2       58.0\n",
      "3       33.0\n",
      "4       16.0\n",
      "        ... \n",
      "8688    41.0\n",
      "8689    18.0\n",
      "8690    26.0\n",
      "8691    32.0\n",
      "8692    44.0\n",
      "Name: Age, Length: 8693, dtype: float64\n"
     ]
    }
   ],
   "source": [
    "# fill age with median value\n",
    "data['Age'].fillna(data['Age'].median(), inplace=True)\n",
    "\n",
    "# If variables are not in the correct data type, apply proper type conversions\n",
    "print(data['Age'])"
   ]
  },
  {
   "cell_type": "code",
   "execution_count": 23,
   "metadata": {},
   "outputs": [
    {
     "name": "stdout",
     "output_type": "stream",
     "text": [
      "0       39\n",
      "1       24\n",
      "2       58\n",
      "3       33\n",
      "4       16\n",
      "        ..\n",
      "8688    41\n",
      "8689    18\n",
      "8690    26\n",
      "8691    32\n",
      "8692    44\n",
      "Name: Age, Length: 8693, dtype: int32\n"
     ]
    }
   ],
   "source": [
    "# Convert the Age column to integer\n",
    "data['Age'] = data['Age'].astype(int)\n",
    "\n",
    "# display age before and after conversion\n",
    "print(data['Age'])"
   ]
  },
  {
   "cell_type": "code",
   "execution_count": null,
   "metadata": {},
   "outputs": [],
   "source": [
    "# 6. Turn categorical variables into quantitative variables in Python\n",
    "# Convert the HomePlanet column to quantitative variables\n",
    "# display the HomePlanet column before conversion"
   ]
  },
  {
   "cell_type": "code",
   "execution_count": 24,
   "metadata": {},
   "outputs": [
    {
     "name": "stdout",
     "output_type": "stream",
     "text": [
      "0       Europa\n",
      "1        Earth\n",
      "2       Europa\n",
      "3       Europa\n",
      "4        Earth\n",
      "         ...  \n",
      "8688    Europa\n",
      "8689     Earth\n",
      "8690     Earth\n",
      "8691    Europa\n",
      "8692    Europa\n",
      "Name: HomePlanet, Length: 8693, dtype: object\n"
     ]
    }
   ],
   "source": [
    "print(data['HomePlanet'])"
   ]
  },
  {
   "cell_type": "code",
   "execution_count": 25,
   "metadata": {},
   "outputs": [
    {
     "name": "stdout",
     "output_type": "stream",
     "text": [
      "0       1\n",
      "1       0\n",
      "2       1\n",
      "3       1\n",
      "4       0\n",
      "       ..\n",
      "8688    1\n",
      "8689    0\n",
      "8690    0\n",
      "8691    1\n",
      "8692    1\n",
      "Name: HomePlanet, Length: 8693, dtype: int8\n"
     ]
    }
   ],
   "source": [
    "\n",
    "# Categorical data\n",
    "data['HomePlanet'] = pd.Categorical(data['HomePlanet'])\n",
    "data['HomePlanet'] = data['HomePlanet'].cat.codes\n",
    "\n",
    "# display\n",
    "print(data['HomePlanet'])"
   ]
  }
 ],
 "metadata": {
  "kernelspec": {
   "display_name": "Python 3 (ipykernel)",
   "language": "python",
   "name": "python3"
  },
  "language_info": {
   "codemirror_mode": {
    "name": "ipython",
    "version": 3
   },
   "file_extension": ".py",
   "mimetype": "text/x-python",
   "name": "python",
   "nbconvert_exporter": "python",
   "pygments_lexer": "ipython3",
   "version": "3.10.11"
  }
 },
 "nbformat": 4,
 "nbformat_minor": 4
}
